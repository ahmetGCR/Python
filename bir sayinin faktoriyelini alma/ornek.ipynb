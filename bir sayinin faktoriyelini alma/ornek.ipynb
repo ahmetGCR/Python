{
 "cells": [
  {
   "cell_type": "code",
   "execution_count": null,
   "metadata": {},
   "outputs": [],
   "source": [
    "# bir sayinin faktoriyelini alma\n",
    "#5! = 5.4.3.2.1\n",
    "\n",
    "print(\"\"\"\n",
    "----------faktoriyel bulma----------\n",
    "çikmak için q ya basiniz\"\"\")\n",
    "\n",
    "print()\n",
    "\n",
    "\n",
    "while True:\n",
    "    try:\n",
    "        sayi = input(\"sayi giriniz : \")\n",
    "\n",
    "        if sayi == \"q\" :\n",
    "            print(\"proğramdan çikiliyor...\")\n",
    "            break\n",
    "\n",
    "        else:\n",
    "            sayi = int(sayi)\n",
    "            \n",
    "            faktoriyel = 1\n",
    "            \n",
    "            for i in range(2,sayi+1):\n",
    "                faktoriyel *= i\n",
    "            \n",
    "            print(\"faktoriyel : \",faktoriyel)  \n",
    "\n",
    "    except ValueError :\n",
    "        print(\"lütfen rakam veya sayi giriniz\")\n",
    "        continue"
   ]
  }
 ],
 "metadata": {
  "language_info": {
   "name": "python"
  }
 },
 "nbformat": 4,
 "nbformat_minor": 2
}
