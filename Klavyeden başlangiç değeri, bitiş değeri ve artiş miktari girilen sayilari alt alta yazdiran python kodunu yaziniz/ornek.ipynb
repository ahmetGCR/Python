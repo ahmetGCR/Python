{
 "cells": [
  {
   "cell_type": "code",
   "execution_count": null,
   "metadata": {},
   "outputs": [],
   "source": [
    "# Klavyeden başlangiç değeri, bitiş değeri ve artiş miktari girilen sayilari alt alta yazdiran python kodunu yaziniz.\n",
    "\n",
    "\n",
    "\n",
    "başlangiç_değeri = int(input(\"başlangiç değerini giriniz : \"))\n",
    "artiş_miktari = int(input(\"artiş miktarini giriniz : \"))\n",
    "bitiş_değeri = int(input(\"bitiş değerini giriniz : \"))\n",
    "\n",
    "for i in range(başlangiç_değeri,bitiş_değeri,artiş_miktari):\n",
    "    print(i)\n",
    "    "
   ]
  }
 ],
 "metadata": {
  "language_info": {
   "name": "python"
  }
 },
 "nbformat": 4,
 "nbformat_minor": 2
}
