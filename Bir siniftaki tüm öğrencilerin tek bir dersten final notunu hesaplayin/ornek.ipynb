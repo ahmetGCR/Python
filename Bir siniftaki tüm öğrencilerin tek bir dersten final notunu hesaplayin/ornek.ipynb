{
 "cells": [
  {
   "cell_type": "code",
   "execution_count": null,
   "metadata": {},
   "outputs": [],
   "source": [
    "\"\"\"\n",
    "Bir siniftaki tüm öğrencilerin tek bir dersten final notunu hesaplayin. Final notu vize notunun yüzde 40 ile final imtihani notunun yüzde 60'nin toplanmasi ile belirlerlenir. Eğer öğrencinin notu 70 ve üstünde ise dersten geçer. \n",
    "Sinif mevcudu yetkiliden alinir.\n",
    "\n",
    "\n",
    "\n",
    "\"\"\"\n",
    "\n",
    "notlar = {}\n",
    "\n",
    "sinif_mevcudu = int(input(\"sinif mevcudunu giriniz : \"))\n",
    "\n",
    "for öğrenci_no in range(1,sinif_mevcudu+1):\n",
    "    notlar[öğrenci_no] = {}\n",
    "\n",
    "\n",
    "\n",
    "\n",
    "for öğrenci_no in range(1,sinif_mevcudu+1):\n",
    "    notlar[öğrenci_no][\"vize\"] = int(input(\"vize notunu giriniz : \"))\n",
    "    notlar[öğrenci_no][\"final\"] = int(input(\"final notunu giriniz : \"))\n",
    "    notlar[öğrenci_no][\"not ortalamasi\"] = notlar[öğrenci_no][\"vize\"] * 0.40 + notlar[öğrenci_no][\"final\"] * 0.60\n",
    "\n",
    "print(notlar)\n",
    "\n",
    "if notlar[öğrenci_no][\"not ortalamasi\"] > 70:\n",
    "    print(\"tebrikler bir üst sinifa geçmeye hak kazandiniz.\")\n",
    "else:\n",
    "    print(\"sinif tekrari\")\n",
    "\n"
   ]
  }
 ],
 "metadata": {
  "language_info": {
   "name": "python"
  }
 },
 "nbformat": 4,
 "nbformat_minor": 2
}
