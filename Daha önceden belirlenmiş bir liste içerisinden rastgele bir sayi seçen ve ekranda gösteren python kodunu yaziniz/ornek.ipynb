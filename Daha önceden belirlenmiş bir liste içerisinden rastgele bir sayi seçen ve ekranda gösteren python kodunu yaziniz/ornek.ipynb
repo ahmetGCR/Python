{
 "cells": [
  {
   "cell_type": "code",
   "execution_count": null,
   "metadata": {},
   "outputs": [],
   "source": [
    "# Daha önceden belirlenmiş bir liste içerisinden rastgele bir sayi seçen ve ekranda gösteren python kodunu yaziniz.\n",
    "\n",
    "\n",
    "# random.choice : bir listeden rastgele seçim yapmak için kullanilir\n",
    "\n",
    "import random\n",
    "\n",
    "liste=[1,2,3,4,5,6,7,8,9,10,11,12,13,14,15,16,17,18,19,20,21,22,23,24,25,26,27,28,29,30]\n",
    "\n",
    "sayi = random.choice(liste)\n",
    "\n",
    "print(sayi)"
   ]
  }
 ],
 "metadata": {
  "language_info": {
   "name": "python"
  }
 },
 "nbformat": 4,
 "nbformat_minor": 2
}
