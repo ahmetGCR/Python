{
 "cells": [
  {
   "cell_type": "code",
   "execution_count": null,
   "metadata": {},
   "outputs": [],
   "source": [
    "# Bir sayi dizisinin elemanlari eğer 100'den küçük ise 50 ekleyerek yeni bir liste oluşturunuz.\n",
    "sayi_dizisi = [200, 7, 90, 800, 80]\n",
    "\n",
    "\n",
    "yeni_sayi_dizisi = []\n",
    "\n",
    "for sayi in sayi_dizisi:\n",
    "    if sayi < 100 :\n",
    "        yeni_sayi_dizisi.append(sayi +50)\n",
    "print(yeni_sayi_dizisi)\n"
   ]
  }
 ],
 "metadata": {
  "language_info": {
   "name": "python"
  }
 },
 "nbformat": 4,
 "nbformat_minor": 2
}
