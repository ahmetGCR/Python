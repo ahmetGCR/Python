{
 "cells": [
  {
   "cell_type": "code",
   "execution_count": null,
   "metadata": {},
   "outputs": [],
   "source": [
    "# 100001. asal sayı nedir\n",
    "\n",
    "def asal_mıdır(sayı):\n",
    "    if sayı <= 1:\n",
    "        return False\n",
    "    if sayı == 2 :\n",
    "        return True\n",
    "    if sayı % 2 == 0:\n",
    "        return False\n",
    "    \n",
    "    for i in range(3, sayı, 2) :\n",
    "        if i * i > sayı:\n",
    "            break\n",
    "        if sayı % i == 0 :\n",
    "            return False\n",
    "    return True\n",
    "\n",
    "def asal_sayı_sırasını_bul(n):\n",
    "    if n <= 0 :\n",
    "        return None\n",
    "    \n",
    "    sayac = 0\n",
    "    sayı = 2\n",
    "    while True:\n",
    "        if asal_mıdır(sayı):\n",
    "            sayac += 1\n",
    "            if sayac == n:\n",
    "                return sayı\n",
    "        sayı += 1\n",
    "\n",
    "asal_sayı_sırasını_bul(10001)"
   ]
  }
 ],
 "metadata": {
  "language_info": {
   "name": "python"
  }
 },
 "nbformat": 4,
 "nbformat_minor": 2
}
