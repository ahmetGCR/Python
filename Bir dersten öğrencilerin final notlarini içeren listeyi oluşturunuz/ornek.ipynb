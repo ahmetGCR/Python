{
 "cells": [
  {
   "cell_type": "code",
   "execution_count": null,
   "metadata": {},
   "outputs": [],
   "source": [
    "\"\"\"\n",
    "Bir dersten öğrencilerin final notlarini içeren listeyi oluşturunuz. Eğer öğrencinin notu 70'ten büyük, öğrenci \n",
    "bu dersten geçer, aksi durumda kalir. Geçen ve kalan öğrenci listelerini ayri ayri list comprehension metodu ile \n",
    "oluşturunuz.\n",
    "\n",
    "Ve oluşan listelere göre öğrencilerin isimlerini gösteriniz. Not: Öğrenci isimleri listesine ihtiyaç var. Final \n",
    "notlari ile ayni siralamada oluşturulmali.\n",
    "\n",
    "\"\"\"\n",
    "son_notlar = [66, 40, 77, 76, 84, 50, 91]\n",
    "\n",
    "öğrenciler = [\"Ali\", \"Kerim\", \"Jessa\", \"Emma\", \"Noah\", \"Azra\", \"Kasim\"]\n",
    "\n",
    "geçen_öğenci_index_listesi = []\n",
    "kalan_öğrenci_index_listesi = []\n",
    "geçen_öğrenci_ismi = [] \n",
    "kalan_öğrenci_ismi = [] \n",
    "\n",
    "\n",
    "geçen_öğenci_index_listesi = [i for i in range(len(son_notlar)) if  son_notlar[i] > 70]\n",
    "kalan_öğrenci_index_listesi = [i for i in range(len(son_notlar)) if son_notlar[i] < 70]\n",
    "\n",
    "print(geçen_öğenci_index_listesi)\n",
    "print(kalan_öğrenci_index_listesi)\n",
    "\n",
    "# Geçen ve kalan öğrencilerin index'leri kullanilarak, \"ogrenciler\" listesindeki isimleri yazdirilir.\n",
    "\n",
    "\"\"\"for i in range(len(son_notlar)):\n",
    "    if son_notlar[i] > 70:\n",
    "        geçen_öğenci_index_listesi.append(i)\n",
    "    else:\n",
    "        kalan_öğrenci_index_listesi.append(i)\n",
    "\"\"\"\n",
    "for i in geçen_öğenci_index_listesi:\n",
    "    geçen_öğrenci_ismi.append(öğrenciler[i]) \n",
    "\n",
    "print(f\"geçen öğrenciler : {geçen_öğrenci_ismi}\")\n",
    "\n",
    "print()\n",
    "\n",
    "for i in kalan_öğrenci_index_listesi:\n",
    "    kalan_öğrenci_ismi.append(öğrenciler[i])\n",
    "print(f\"kalan öğrenciler : {kalan_öğrenci_ismi}\")"
   ]
  }
 ],
 "metadata": {
  "language_info": {
   "name": "python"
  }
 },
 "nbformat": 4,
 "nbformat_minor": 2
}
