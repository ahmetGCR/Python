{
 "cells": [
  {
   "cell_type": "code",
   "execution_count": null,
   "metadata": {},
   "outputs": [],
   "source": [
    "\"\"\"\n",
    "Kullanicidan bir partiye davet etmek istediği üç kişinin adini girmesini isteyin girilen isimleri bir \n",
    "listede saklayin. Ardindan yetkiliye başka bir davetli daha eklemek isteyip istemediklerini sorun. Cevap evet\n",
    "olduğu sürece daha fazla davetli eklemelerine izin verin. \"hayir\" yanitini verdiklerinde,\n",
    "ilk 3 kişinin dişindaki yeni davetliler eklenirken daha önce listeye ilave edilip edilmedikleri kontrol \n",
    "edilmeli.\n",
    "partiye kaç kişiyi davet ettiklerini,\n",
    "davetlilerin isimlerini Z'den A'ya siralanacak şekilde gösteriniz.\n",
    "\n",
    "\"\"\"\n",
    "\n",
    "davetliler = []\n",
    "\n",
    "for i in range(3):\n",
    "    isim = input(\"isim : \")\n",
    "\n",
    "    davetliler.append(isim)\n",
    "\n",
    "print(davetliler)\n",
    "\n",
    "#ek_davetli = input(\"eklenecek davetlilerli var mi?(evet/hayir) : \").lower()\n",
    "\n",
    "while True:\n",
    "    ek_davetli = input(\"eklenecek davetlilerli var mi?(evet/hayir) : \").lower()\n",
    "    if ek_davetli == \"evet\" or ek_davetli == \"hayir\":\n",
    "        while ek_davetli == \"evet\":\n",
    "            davetli = input(\"eklenecek davetli ismini girin : \")\n",
    "            if davetli not in davetliler:\n",
    "                davetliler.append(davetli)\n",
    "            else:\n",
    "                print(davetli, \" daha önce listeye eklendi...\")\n",
    "            \n",
    "            ek_davetli = input(\"eklenecek davetlilerli var mi?(evet/hayir) : \")\n",
    "\n",
    "    else:\n",
    "        print(\"yanliş tuşlama\")\n",
    "        continue\n",
    "        \n",
    "            \n",
    "print(f\"davete katilanlarin sayisi : {len(davetliler)}\")\n",
    "\n",
    "davetliler.sort(reverse=True)\n",
    "print(davetliler)"
   ]
  }
 ],
 "metadata": {
  "language_info": {
   "name": "python"
  }
 },
 "nbformat": 4,
 "nbformat_minor": 2
}
