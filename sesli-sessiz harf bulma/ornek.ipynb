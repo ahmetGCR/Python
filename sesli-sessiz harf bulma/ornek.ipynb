{
 "cells": [
  {
   "cell_type": "code",
   "execution_count": null,
   "metadata": {},
   "outputs": [],
   "source": [
    "\n",
    "\"\"\"\n",
    "Bu aliştirmada, kullanicidan alfabedeki bir harfi okuyan bir program oluşturulur. Kullanici a, e, i, o veya u \n",
    "girerse, programiniz girilen harfin sesli harf olduğunu belirten bir mesaj göstermelidir. Aksi takdirde, \n",
    "programiniz harfin bir ünsüz olduğunu belirten bir mesaj göstermelidir.\n",
    "\n",
    "\"\"\"\n",
    "\n",
    "\n",
    "\n",
    "\n",
    "harf = input(\"harf giriniz : \").lower()\n",
    "if len(harf) == 1 :\n",
    "    if harf.isalpha():\n",
    "\n",
    "        if harf == \"a\" or harf == \"e\" or harf == \"i\" or harf == \"u\" :\n",
    "            print(harf, \"sesli harftir\")\n",
    "\n",
    "        else:\n",
    "            print(harf, \"sesli harf değildir\")\n",
    "\n",
    "    else:\n",
    "        print(\"harf giriniz\")        \n",
    "\n",
    "else:\n",
    "    print(\"tek karakter giriniz\")"
   ]
  }
 ],
 "metadata": {
  "language_info": {
   "name": "python"
  }
 },
 "nbformat": 4,
 "nbformat_minor": 2
}
