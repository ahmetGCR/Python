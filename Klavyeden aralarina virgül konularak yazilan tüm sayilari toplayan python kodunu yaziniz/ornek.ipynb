{
 "cells": [
  {
   "cell_type": "code",
   "execution_count": null,
   "metadata": {},
   "outputs": [],
   "source": [
    " # Klavyeden aralarina virgül konularak yazilan tüm sayilari toplayan python kodunu yaziniz.\n",
    "\n",
    "sayilar = input(\"sayilari aralarina virgül koyarak yaziniz : \")\n",
    "\n",
    "# 10,20,30,40,50.......\n",
    "\n",
    "x = sayilar.split(\",\")\n",
    "sayilar_toplam = 0\n",
    "\n",
    "for sayi in x:\n",
    "    sayi = int(sayi)\n",
    "    sayilar_toplam += sayi\n",
    "\n",
    "print(f\"{x} sayilarinin toplami : {sayilar_toplam}\")"
   ]
  }
 ],
 "metadata": {
  "language_info": {
   "name": "python"
  }
 },
 "nbformat": 4,
 "nbformat_minor": 2
}
