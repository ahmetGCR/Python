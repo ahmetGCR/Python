{
 "cells": [
  {
   "cell_type": "code",
   "execution_count": null,
   "metadata": {},
   "outputs": [],
   "source": [
    "# Python ile Lunapark Bileti Alma\n",
    "\"\"\"\n",
    "Bu örneğimizde, Python ile lunapark bileti satin almak için gerekli olan koşullarin değerlendirildiği bir program yazilacaktir. \n",
    "Programimiz aşağidaki koşullara göre yazilacaktir:\n",
    "\n",
    "Kullanicidan boyunu santimetre (cm) cinsinden girmesi istenir.\n",
    "Eğer kullanicinin boyu 120 cm veya daha fazla ise,\n",
    "Kullanicidan yaşini girmesi istenir.\n",
    "Eğer yaşi 12’den küçükse, bilet ücreti 15 TL olarak belirlenir.\n",
    "Eğer yaşi 12 ile 18 arasindaysa, bilet ücreti 25 TL olarak belirlenir.\n",
    "Eğer yaşi 18’den büyükse, bilet ücreti 35 TL olarak belirlenir.\n",
    "Eğer kullanicinin boyu 120 cm’den küçükse,\n",
    "Kullaniciya hiz trenine binme koşulunu sağlamadiği belirtilir ve program sonlanir.\n",
    "\n",
    "\"\"\"\n",
    "def bilet():\n",
    "    while True:\n",
    "\n",
    "        boy = float(input(\"lütfen boyunuzu cm cinsinden giriniz : \"))\n",
    "\n",
    "        if boy >= 120 :\n",
    "            yaş = int(input(\"lütfen yaşinizi giriniz : \"))\n",
    "            if yaş < 12 :\n",
    "                bilet_ücreti = 15\n",
    "            elif yaş >= 12 and yaş <= 18 :\n",
    "                bilet_ücreti = 25\n",
    "            elif yaş > 18 :\n",
    "                bilet_ücreti = 35 \n",
    "\n",
    "            print(\"bile ücretiniz : \",bilet_ücreti)\n",
    "        else:\n",
    "            print(\"hiz trenine binme koşulu sağlanmadi...\")  \n",
    "            break\n",
    "\n",
    "        while True:\n",
    "            devam_mi = input(\"devam edilsin mi? (e/h) :\")\n",
    "            if devam_mi == \"e\" or devam_mi == \"h\":\n",
    "                if devam_mi == \"e\":\n",
    "                    break\n",
    "                elif devam_mi == \"h\":\n",
    "                    print(\"prğoramdan çikildi...\")\n",
    "                    break\n",
    "            else:\n",
    "                print(\"e veya h tuşlayiniz...\")\n",
    "        if devam_mi == \"h\":\n",
    "            break\n",
    "\n",
    "bilet()"
   ]
  }
 ],
 "metadata": {
  "language_info": {
   "name": "python"
  }
 },
 "nbformat": 4,
 "nbformat_minor": 2
}
