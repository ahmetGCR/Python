{
 "cells": [
  {
   "cell_type": "code",
   "execution_count": null,
   "metadata": {},
   "outputs": [],
   "source": [
    "# Python ile 2. Dereceden Denklemin köklerini bulma\n",
    "\n",
    "a = int(input(\"a : \"))\n",
    "b = int(input(\"b : \"))\n",
    "c = int(input(\"c : \"))\n",
    "\n",
    "delta = b**2 - 4*a*c\n",
    "x1 = (-b + delta**0.5)/2*a\n",
    "x2 = (-b - delta**0.5)/2*a\n",
    "\n",
    "\n",
    "print(f\"birinci kök : {x1}\\nikinci kök : {x2}\")"
   ]
  }
 ],
 "metadata": {
  "language_info": {
   "name": "python"
  }
 },
 "nbformat": 4,
 "nbformat_minor": 2
}
