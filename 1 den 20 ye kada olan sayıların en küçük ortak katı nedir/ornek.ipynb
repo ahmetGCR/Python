{
 "cells": [
  {
   "cell_type": "code",
   "execution_count": null,
   "metadata": {},
   "outputs": [],
   "source": [
    "# 1 den 20 ye kada olan sayıların en küçük ortak katı nedir\n",
    "# math modülünü import edip lcm fonksiyonu ile sayıların ortak katları bulunabilir = math.lcm(*...)\n",
    "\n",
    "import math\n",
    "sayilar = []\n",
    "for i in range(1,21):\n",
    "    sayilar.append(i)\n",
    "en_küçük_ortak_kat = math.lcm(*sayilar)\n",
    "en_küçük_ortak_kat "
   ]
  }
 ],
 "metadata": {
  "language_info": {
   "name": "python"
  }
 },
 "nbformat": 4,
 "nbformat_minor": 2
}
