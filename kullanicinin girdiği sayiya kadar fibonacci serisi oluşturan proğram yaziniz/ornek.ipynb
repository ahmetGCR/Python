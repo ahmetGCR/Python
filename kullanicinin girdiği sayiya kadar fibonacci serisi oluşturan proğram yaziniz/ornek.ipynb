{
 "cells": [
  {
   "cell_type": "code",
   "execution_count": null,
   "metadata": {},
   "outputs": [],
   "source": [
    "# kullanicinin girdiği sayiya kadar fibonacci serisi oluşturan proğram yaziniz.\n",
    "\n",
    "\"\"\"\n",
    "fibonacci sayilari = 1,1,2,3,5,8,13,21 ...\n",
    "\n",
    "\"\"\"\n",
    "\n",
    "while True:\n",
    "\n",
    "    try:\n",
    "        \n",
    "        a = 1\n",
    "        b = 1\n",
    "\n",
    "        sayi = int(input(\"sayi giriniz : \"))\n",
    "\n",
    "        for i in range(sayi):\n",
    "            a,b = b,a+b\n",
    "            print(a)\n",
    "        break\n",
    "\n",
    "    except ValueError:\n",
    "        print(\"lütfen sayisal değerler giriniz\")\n",
    "        continue"
   ]
  }
 ],
 "metadata": {
  "language_info": {
   "name": "python"
  }
 },
 "nbformat": 4,
 "nbformat_minor": 2
}
