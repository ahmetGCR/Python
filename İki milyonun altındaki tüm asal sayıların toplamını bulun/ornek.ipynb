{
 "cells": [
  {
   "cell_type": "code",
   "execution_count": null,
   "metadata": {},
   "outputs": [],
   "source": [
    "# İki milyonun altındaki tüm asal sayıların toplamını bulun.\n",
    " \n",
    " \n",
    "def asal_sayı_mı(sayi):\n",
    "    if sayi <= 1:\n",
    "        return False\n",
    "    if sayi == 2:\n",
    "        return True\n",
    "    if sayi % 2 == 0:\n",
    "        return False\n",
    "    \n",
    "    for i in range(3, sayi, 2):\n",
    "        if i * i > sayi:\n",
    "            break\n",
    "        if sayi % i == 0:\n",
    "            return False\n",
    "    \n",
    "    return True\n",
    "\n",
    "toplam = 0\n",
    "for i in range(2, 2000000):\n",
    "    if asal_sayı_mı(i):\n",
    "        toplam += i\n",
    "\n",
    "print(toplam)"
   ]
  }
 ],
 "metadata": {
  "language_info": {
   "name": "python"
  }
 },
 "nbformat": 4,
 "nbformat_minor": 2
}
