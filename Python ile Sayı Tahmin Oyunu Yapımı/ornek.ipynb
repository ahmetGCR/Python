{
 "cells": [
  {
   "cell_type": "code",
   "execution_count": null,
   "metadata": {},
   "outputs": [],
   "source": [
    "# Python ile Sayı Tahmin Oyunu Yapımı\n",
    "# kullanıcı rastgele sayı oluşturacak\n",
    "# input = bir sayı giriniz\n",
    "# tutulan sayı ile girilen sayı eşit ise tebrikler , değil ise if blokları ile aşağı yukarı uyarısı versin\n",
    "\n",
    "\n",
    "import random\n",
    "rastgele_sayi = random.randint(1,10)\n",
    "hak = 3\n",
    "\n",
    "while hak > 0:\n",
    "    hak -= 1\n",
    "\n",
    "    try:\n",
    "\n",
    "        sayi = int(input(\"1-10 arası sayi giriniz : \"))\n",
    "\n",
    "        if rastgele_sayi == sayi:\n",
    "            print(\"tebrikler bildiniz...\")\n",
    "            break\n",
    "\n",
    "        elif sayi > rastgele_sayi:\n",
    "            print(\"aşaği\")\n",
    "\n",
    "        elif sayi < rastgele_sayi:\n",
    "            print(\"yukari\")\n",
    "\n",
    "        if hak == 0 :\n",
    "            print(\"deneme hakkiniz bitti\")\n",
    "\n",
    "\n",
    "    except ValueError:\n",
    "        print(\"lütfen sayisal değerler giriniz\")"
   ]
  }
 ],
 "metadata": {
  "language_info": {
   "name": "python"
  }
 },
 "nbformat": 4,
 "nbformat_minor": 2
}
