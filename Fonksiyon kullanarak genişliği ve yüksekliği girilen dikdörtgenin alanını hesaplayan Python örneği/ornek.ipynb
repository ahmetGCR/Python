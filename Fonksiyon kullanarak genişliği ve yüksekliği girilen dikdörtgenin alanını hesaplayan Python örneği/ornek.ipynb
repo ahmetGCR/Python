{
 "cells": [
  {
   "cell_type": "code",
   "execution_count": null,
   "metadata": {},
   "outputs": [],
   "source": [
    "# Fonksiyon kullanarak genişliği ve yüksekliği girilen dikdörtgenin alanını hesaplayan Python örneği\n",
    "\n",
    "def dikdörtgen_alani(genişlik,yükseklik):\n",
    "    alan = genişlik * yükseklik\n",
    "    return alan\n",
    "\n",
    "def devam_edilsin_mi():\n",
    "    while True:\n",
    "        kontrol = input(\"devam edilsin mi? (E/H): \").lower()\n",
    "        \n",
    "        if kontrol == \"e\" or kontrol == \"h\":\n",
    "\n",
    "            if kontrol ==   \"e\":\n",
    "                return True\n",
    "                break\n",
    "            elif kontrol == \"h\":\n",
    "                return  False\n",
    "                break\n",
    "        else:\n",
    "            print(\"lütfen \\\"e\\\" veya \\\"h\\\" harflerinden birini tuşlayiniz\")\n",
    "        \n",
    "\n",
    "try:\n",
    "    while True:\n",
    "        genişlik = int(input(\"genişlik değerini giriniz : \"))\n",
    "        yükseklik = int(input(\"yükseklik değerini giriniz :\"))\n",
    "\n",
    "\n",
    "        alan = dikdörtgen_alani(genişlik,yükseklik)\n",
    "        print(\"dikdörtgrnin alani : \", alan)\n",
    "\n",
    "        devam = devam_edilsin_mi()\n",
    "        if devam == True:\n",
    "            continue\n",
    "\n",
    "        else:\n",
    "            print(\"proğramdan çikiliyor\")\n",
    "            break\n",
    "\n",
    "except ValueError:\n",
    "    print(\"lütfen sayisal değerler girin\")"
   ]
  }
 ],
 "metadata": {
  "language_info": {
   "name": "python"
  }
 },
 "nbformat": 4,
 "nbformat_minor": 2
}
