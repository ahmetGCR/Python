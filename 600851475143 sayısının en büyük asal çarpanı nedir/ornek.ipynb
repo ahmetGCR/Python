{
 "cells": [
  {
   "cell_type": "code",
   "execution_count": null,
   "metadata": {},
   "outputs": [],
   "source": [
    "# 600851475143 sayısının en büyük asal çarpanı nedir\n",
    "\n",
    "#1 sayı = 600851475143\n",
    "#2 girilen sayıyı bölecek olan sayıları tutacak bir değişken oluşturup 2 sayısını atayalım\n",
    "#3 girilen sayıya kadar döngü oluştur\n",
    "#4 eğer girdiğimiz sayı bölen değişkenine bölünüyorsa bölen değişkenini yazdırıp girdiğimiz sayıyıda bölüyoruz\n",
    "#4 eğer sayımız bölen değişkenine tam bölünmüyorsa bölen değişkeninin değerini 1 artırıyoruz\n",
    "\n",
    "\n",
    "sayi = 600851475143\n",
    "asal_carpanlar = []\n",
    "bolen = 2\n",
    "\n",
    "while sayi > 1 :\n",
    "    while sayi % bolen == 0:\n",
    "        asal_carpanlar.append(bolen)\n",
    "        sayi /= bolen\n",
    "    bolen += 1\n",
    "\n",
    "print(asal_carpanlar)   \n",
    "\n",
    "asal_carpanlar.sort()\n",
    "\n",
    "sonuç = asal_carpanlar[-1]\n",
    "\n",
    "print(sonuç)\n"
   ]
  }
 ],
 "metadata": {
  "language_info": {
   "name": "python"
  }
 },
 "nbformat": 4,
 "nbformat_minor": 2
}
