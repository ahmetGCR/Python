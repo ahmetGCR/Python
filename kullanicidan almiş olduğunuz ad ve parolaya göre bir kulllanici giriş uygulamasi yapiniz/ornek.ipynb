{
 "cells": [
  {
   "cell_type": "code",
   "execution_count": null,
   "metadata": {},
   "outputs": [],
   "source": [
    "\"\"\"\n",
    "kullanicidan almiş olduğunuz ad ve parolaya göre bir kulllanici giriş uygulamasi yapiniz\n",
    "kullanicinin giriş hakki 3 tanedir. 3 ten fazla girerse hakkiniz bitti mesaji veriniz\n",
    "\n",
    "\"\"\"\n",
    "\n",
    "\n",
    "sys_ad = \"ahmet\"\n",
    "sys_parola = \"12345\"\n",
    "giriş_hakki = 3\n",
    "\n",
    "while True:\n",
    "    kullanici_adi = input(\"ad : \")\n",
    "    kullanici_parola = input(\"parola :\")\n",
    "    \n",
    "    if sys_ad == kullanici_adi and sys_parola != kullanici_parola :\n",
    "        print(\"parola hatali\")\n",
    "        giriş_hakki -= 1\n",
    "        \n",
    "    elif sys_ad != kullanici_adi and sys_parola == kullanici_parola :\n",
    "        print(\"kullanici adi hatali\")\n",
    "        giriş_hakki -= 1\n",
    "        \n",
    "    elif sys_ad != kullanici_adi and sys_parola != kullanici_parola :\n",
    "        print(\"kullanici adi ve parola hatali\")\n",
    "        giriş_hakki -= 1\n",
    "        \n",
    "    else:\n",
    "        print(\"sisteme hoşgeldiniz..\")\n",
    "        break\n",
    "    \n",
    "    if giriş_hakki == 0 :\n",
    "        print(\"giriş hakkiniz bitti\")\n",
    "        break"
   ]
  }
 ],
 "metadata": {
  "language_info": {
   "name": "python"
  }
 },
 "nbformat": 4,
 "nbformat_minor": 2
}
