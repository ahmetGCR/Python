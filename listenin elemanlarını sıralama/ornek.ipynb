{
 "cells": [
  {
   "cell_type": "code",
   "execution_count": null,
   "metadata": {},
   "outputs": [],
   "source": [
    "\"\"\"\n",
    "liste = [34,1,56,334,23,2,3,19,67,78,32,45] listesinin elemanlarini küçükten büyüğe doğru ve büyükten küçüğe \n",
    "doğru siralayan python kodlarini yaziniz.\n",
    "\n",
    "\"\"\"\n",
    "\n",
    "liste = [34,1,56,334,23,2,3,19,67,78,32,45] \n",
    "\n",
    "liste.sort(reverse=True)\n",
    "\n",
    "print(\"büyükten küçüğe siralama : \", liste)\n",
    "print()\n",
    "\n",
    "liste.sort()\n",
    "print(\"küçükten büyüğe siralama : \",liste)"
   ]
  }
 ],
 "metadata": {
  "language_info": {
   "name": "python"
  }
 },
 "nbformat": 4,
 "nbformat_minor": 2
}
