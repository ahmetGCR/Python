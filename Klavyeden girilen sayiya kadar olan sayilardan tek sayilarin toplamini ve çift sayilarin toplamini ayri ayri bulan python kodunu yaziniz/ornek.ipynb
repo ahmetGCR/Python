{
 "cells": [
  {
   "cell_type": "code",
   "execution_count": null,
   "metadata": {},
   "outputs": [],
   "source": [
    "# örnek 10 : \n",
    "# Klavyeden girilen sayiya kadar olan sayilardan tek sayilarin toplamini ve çift sayilarin toplamini ayri ayri bulan python kodunu yaziniz.\n",
    "\n",
    "\"\"\"\n",
    "\n",
    "sayi = int(input(\"sayi : \"))\n",
    "\n",
    "çift_toplam = 0\n",
    "tek_toplam = 0\n",
    "\n",
    "for i in range(1, sayi + 1):\n",
    "    if i % 2 == 0 :\n",
    "        çift_toplam += i\n",
    "    else:\n",
    "        tek_toplam += i\n",
    "\n",
    "print(f\"tek sayilarin toplami : {tek_toplam}\\nçift sayilarin toplami : {çift_toplam}\")\n",
    "\n",
    "print(\"\"\"\n",
    "\n",
    "     \"\"\")\n",
    "\n",
    "sayaç = 0\n",
    "ç_toplam = 0\n",
    "t_toplam = 0\n",
    "\n",
    "while sayaç < sayi:\n",
    "    sayaç += 1\n",
    "    if sayaç % 2 == 0:\n",
    "        ç_toplam += sayaç\n",
    "    else:\n",
    "        t_toplam += sayaç\n",
    "\n",
    "print(f\"tek sayilarin toplami : {t_toplam}\\nçift sayilarin toplami : {ç_toplam}\")\n"
   ]
  }
 ],
 "metadata": {
  "language_info": {
   "name": "python"
  }
 },
 "nbformat": 4,
 "nbformat_minor": 2
}
