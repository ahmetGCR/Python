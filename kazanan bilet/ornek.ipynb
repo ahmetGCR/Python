{
 "cells": [
  {
   "cell_type": "code",
   "execution_count": null,
   "metadata": {},
   "outputs": [],
   "source": [
    "\"\"\"\n",
    "Rastgele Piyango Numaralari: Piyangoda büyük ikramiyeyi kazanmak için, kişi biletindeki 6 sayiyi, piyango \n",
    "organizatörü tarafindan çekilen 1 ile 49 arasindaki 6 sayiyla eşleştirmek zorundadir. Piyango bileti için \n",
    "rastgele 6 sayi üreten bir program yaziniz. Seçilen 6 numaranin tekrarlamadiğindan emin olun. Sayilari artan \n",
    "sirada görüntüleyin.\n",
    "\n",
    "Ürettiğiniz biletin KAZANAN bilet olup olmadiğini test edin.\n",
    "\n",
    "\"\"\"\n",
    "\n",
    "import random\n",
    "\n",
    "kazanan_bilet_numaralari = []\n",
    "\n",
    "for i in range(6):\n",
    "    sayilar = random.randint(1,49)\n",
    "    kazanan_bilet_numaralari.append(sayilar)\n",
    "\n",
    "print(f\"kazanan bilet numaralari : {kazanan_bilet_numaralari}\")\n",
    "\n",
    "print()\n",
    "\n",
    "bilet_numaralari = []\n",
    "\n",
    "for i in range(6):\n",
    "    numaralar = random.randint(1,49)\n",
    "\n",
    "    \n",
    "    while numaralar in bilet_numaralari:\n",
    "        numaralar = random.randint(1,49)\n",
    "\n",
    "    bilet_numaralari.append(numaralar)\n",
    "\n",
    "bilet_numaralari.sort()\n",
    "print(f\"sizin bilet numaralariniz : {bilet_numaralari} \")\n",
    "\n",
    "print()\n",
    "\n",
    "if bilet_numaralari== kazanan_bilet_numaralari:\n",
    "    print(\"tebrikler kazandiniz\")\n",
    "\n",
    "else:\n",
    "    print(\"tekrar deneyiniz\")"
   ]
  }
 ],
 "metadata": {
  "language_info": {
   "name": "python"
  }
 },
 "nbformat": 4,
 "nbformat_minor": 2
}
