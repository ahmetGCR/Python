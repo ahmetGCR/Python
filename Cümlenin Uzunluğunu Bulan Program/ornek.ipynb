{
 "cells": [
  {
   "cell_type": "code",
   "execution_count": null,
   "metadata": {},
   "outputs": [],
   "source": [
    "# Cümlenin Uzunluğunu Bulan Program\n",
    "\n",
    "cümle = input(\"cümle giriniz : \")\n",
    "\n",
    "uzunluk = len(cümle)\n",
    "print(\"cümlenin uzunluğu : \", uzunluk)\n",
    "\n",
    "# while ile\n",
    "\n",
    "sayaç = 0\n",
    "while cümle[sayaç:]:\n",
    "    sayaç+=1\n",
    "print(\"cümlenin uzunluğu : \",sayaç)"
   ]
  }
 ],
 "metadata": {
  "language_info": {
   "name": "python"
  }
 },
 "nbformat": 4,
 "nbformat_minor": 2
}
