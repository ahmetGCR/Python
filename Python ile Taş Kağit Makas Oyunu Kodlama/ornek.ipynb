{
 "cells": [
  {
   "cell_type": "code",
   "execution_count": null,
   "metadata": {},
   "outputs": [],
   "source": [
    "# Python ile Taş Kağit Makas Oyunu Kodlama\n",
    "\n",
    "# Taş, makasi kirarak yener.\n",
    "# Kağit, taşi sararak yener.\n",
    "# Makas, kağidi keserek yener.\n",
    "\n",
    "\n",
    "import random\n",
    "puan = 0\n",
    "can = 3\n",
    "oyun = [\"taş\", \"kağit\", \"makas\"]\n",
    "\n",
    "while can != 0 :\n",
    "    rastgele_sayi = random.randint(0,2)\n",
    "    bilgisayar_hamle = oyun[rastgele_sayi]\n",
    "    hamle = input(\"taş, kağit, makas ? :\").lower()\n",
    "\n",
    "    if  hamle == \"taş\" or hamle == \"makas\" or hamle == \"kağit\":\n",
    "        if bilgisayar_hamle == hamle :\n",
    "            print(\"berabere\")\n",
    "\n",
    "        elif hamle == \"taş\" :\n",
    "            if bilgisayar_hamle == \"kağit\" :\n",
    "                print(\"kaybettiniz\")\n",
    "                can -= 1\n",
    "            else:\n",
    "                print(\"kazandiniz\")\n",
    "                puan += 10\n",
    "        elif hamle == \"kağit\" :\n",
    "            if bilgisayar_hamle == \"taş\" :\n",
    "                print(\"kazandiniz\")\n",
    "                puan += 10\n",
    "            else:\n",
    "                print(\"kaybettiniz\")\n",
    "                can -= 1\n",
    "        elif hamle == \"makas\":\n",
    "            if bilgisayar_hamle == \"taş\" :\n",
    "                print(\"kaybettiniz\")\n",
    "                can -= 1\n",
    "\n",
    "            else:\n",
    "                print(\"kazandiniz\")\n",
    "                puan += 10\n",
    "    else:\n",
    "        print(\"harf giriniz vaya doğru yazdiğinizdan emin olunuz\")\n",
    "\n",
    "print(f\"oyun bitti. puaniniz : {puan}\")"
   ]
  }
 ],
 "metadata": {
  "language_info": {
   "name": "python"
  }
 },
 "nbformat": 4,
 "nbformat_minor": 2
}
