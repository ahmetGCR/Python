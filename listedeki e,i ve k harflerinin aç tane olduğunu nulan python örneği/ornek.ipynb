{
 "cells": [
  {
   "cell_type": "code",
   "execution_count": null,
   "metadata": {},
   "outputs": [],
   "source": [
    "\"\"\"\n",
    "harfler = [\"a\", \"e\", \"i\", \"o\", \"i\", \"u\",\"e\",\"i\",\"b\"] listesindeki kaçar tane e,i ve k harflerinin olduğunu \n",
    "bulan python kodunu yaziniz.\n",
    "\n",
    "\"\"\"\n",
    "\n",
    "harfler = [\"a\", \"e\", \"i\", \"o\", \"i\", \"u\",\"e\",\"i\",\"b\"]\n",
    "\n",
    "\n",
    "e = harfler.count(\"e\")\n",
    "i = harfler.count(\"i\")\n",
    "k = harfler.count(\"k\")\n",
    "\n",
    "print(f\"e harfi : {e}\\ni harfi : {i}\\nk harfi : {k}\")\n",
    "print()\n",
    "\n"
   ]
  }
 ],
 "metadata": {
  "language_info": {
   "name": "python"
  }
 },
 "nbformat": 4,
 "nbformat_minor": 2
}
