{
 "cells": [
  {
   "cell_type": "code",
   "execution_count": null,
   "metadata": {},
   "outputs": [],
   "source": [
    "# Python Mükemmel Sayi Bulma\n",
    "\n",
    "\"\"\"\n",
    "Mükemmel sayi, kendisi hariç pozitif bölenlerinin toplamina eşit olan sayilardir. Bir örnekle açiklayacak \n",
    "olursak, 6 sayisinin pozitif bölenleri 1,2 ve 3’tür. Bu pozitif bölenlerin toplami 6’dir. Sonuç olarak 6 \n",
    "mükemmel sayidir.\n",
    "\n",
    "\"\"\"\n",
    "while True:\n",
    "        \n",
    "    try:\n",
    "\n",
    "        sayi = int(input(\"sayi : \"))\n",
    "\n",
    "        toplam = 0\n",
    "\n",
    "        for i in range(1,sayi):\n",
    "            if sayi % i == 0:\n",
    "                toplam += i\n",
    "\n",
    "        if toplam == sayi:\n",
    "            print(f\"{sayi} : sayisi mükemmel sayidir\")\n",
    "            continue\n",
    "\n",
    "        else:\n",
    "            print(f\"{sayi} : sayisi mükemmel sayi değildir\")\n",
    "            continue\n",
    "    except ValueError:\n",
    "        print(\"lütfen sayisal değerler giriniz.\")"
   ]
  }
 ],
 "metadata": {
  "language_info": {
   "name": "python"
  }
 },
 "nbformat": 4,
 "nbformat_minor": 2
}
