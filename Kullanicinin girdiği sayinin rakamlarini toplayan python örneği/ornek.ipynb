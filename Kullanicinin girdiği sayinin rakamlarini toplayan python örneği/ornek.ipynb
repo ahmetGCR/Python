{
 "cells": [
  {
   "cell_type": "code",
   "execution_count": null,
   "metadata": {},
   "outputs": [],
   "source": [
    "# Kullanicinin girdiği sayinin rakamlarini toplayan python örneği\n",
    "def rakamlar_toplami():\n",
    "\n",
    "    while True:\n",
    "\n",
    "        sayi = input(\"sayi giriniz : \")\n",
    "        rakamlar_toplami = 0\n",
    "\n",
    "        try:\n",
    "            for rakam in sayi:\n",
    "                rakam = int(rakam)\n",
    "                rakamlar_toplami += rakam\n",
    "\n",
    "            print(rakamlar_toplami)\n",
    "            break\n",
    "        except ValueError:\n",
    "            print(\"lütfen sayi veya rakam kullanin\")\n",
    "            pass\n",
    "rakamlar_toplami()"
   ]
  }
 ],
 "metadata": {
  "language_info": {
   "name": "python"
  }
 },
 "nbformat": 4,
 "nbformat_minor": 2
}
