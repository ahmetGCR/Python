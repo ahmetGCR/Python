{
 "cells": [
  {
   "cell_type": "code",
   "execution_count": null,
   "metadata": {},
   "outputs": [],
   "source": [
    "# örnek 35 : Python ile “FizzBuzz” Mülakat Sorusu Çözümü\n",
    "\"\"\"\n",
    "Programiniz sirayla 1’den 100’e kadar her sayiyi yazdirmalidir.\n",
    "Sayi eğer 3’e bölünebiliyorsa, (örneğin; 3) sayiyi yerine “Fizz” yazdirin.\n",
    "Sayi eğer 5’e bölünebiliyorsa, (örneğin; 5) sayiyi yerine “Buzz” yazdirin.\n",
    "Sayi eğer hem 3’e hem de 5’e bölünebiliyorsa, (örneğin; 15) sayiyi yazdirmak yerine “FizzBuzz” yazmalidir.\n",
    "\n",
    "\"\"\"\n",
    "\n",
    "for sayi in range(1,100):\n",
    "    if sayi % 3 == 0 and sayi % 5 == 0 :\n",
    "        print(\"FizzBuzz\")\n",
    "    \n",
    "    elif sayi % 5 == 0 :\n",
    "        print(\"Buzz\")\n",
    "    \n",
    "    elif sayi % 3 == 0 :\n",
    "        print(\"Fizz\")\n",
    "    \n",
    "    else:\n",
    "        print(sayi)\n",
    "\n",
    "\n",
    "sayac = 1\n",
    "\n",
    "while sayac < 101:\n",
    "    if sayac % 3 == 0 and sayac % 5 == 0 :\n",
    "        print(\"FizzBuzz\")\n",
    "    \n",
    "    elif sayac % 5 == 0 :\n",
    "        print(\"Buzz\")\n",
    "    \n",
    "    elif sayac % 3 == 0 :\n",
    "        print(\"Fizz\")\n",
    "    \n",
    "    else:\n",
    "        print(sayac)\n",
    "    \n",
    "    sayac += 1"
   ]
  }
 ],
 "metadata": {
  "language_info": {
   "name": "python"
  }
 },
 "nbformat": 4,
 "nbformat_minor": 2
}
