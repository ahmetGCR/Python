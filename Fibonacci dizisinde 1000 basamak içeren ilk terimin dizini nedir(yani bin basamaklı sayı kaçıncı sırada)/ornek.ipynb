{
 "cells": [
  {
   "cell_type": "code",
   "execution_count": null,
   "metadata": {},
   "outputs": [],
   "source": [
    "# Fibonacci dizisinde 1000 basamak içeren ilk terimin dizini nedir?(yani bin basamaklı sayı kaçıncı sırada)\n",
    "a = 0\n",
    "b = 1\n",
    "index = 1\n",
    "basamak_sayısı = 1000\n",
    "while len(str(b)) < basamak_sayısı :\n",
    "    fibonacci_sayıları = [b]\n",
    "    a,b = b,a+b\n",
    "    fibonacci_sayıları.append(b)\n",
    "    index += 1\n",
    "print(index)"
   ]
  }
 ],
 "metadata": {
  "language_info": {
   "name": "python"
  }
 },
 "nbformat": 4,
 "nbformat_minor": 2
}
