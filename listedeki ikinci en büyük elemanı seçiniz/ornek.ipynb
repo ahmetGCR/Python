{
 "cells": [
  {
   "cell_type": "code",
   "execution_count": null,
   "metadata": {},
   "outputs": [],
   "source": [
    "# listedeki ikinci en büyük elemanı seçiniz\n",
    "liste = [5,0,3,1,7,4,9,9,3,2,1]\n",
    "\n",
    "listem = list(set(liste))\n",
    "listem.sort(reverse=True)\n",
    "ikinci_en_büyük_sayı = listem[1]\n",
    "print(ikinci_en_büyük_sayı)"
   ]
  }
 ],
 "metadata": {
  "language_info": {
   "name": "python"
  }
 },
 "nbformat": 4,
 "nbformat_minor": 2
}
