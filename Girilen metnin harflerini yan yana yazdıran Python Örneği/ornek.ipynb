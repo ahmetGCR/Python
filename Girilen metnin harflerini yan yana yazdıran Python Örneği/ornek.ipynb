{
 "cells": [
  {
   "cell_type": "code",
   "execution_count": null,
   "metadata": {},
   "outputs": [],
   "source": [
    "# Girilen metnin harflerini yan yana yazdıran Python Örneği\n",
    "\n",
    "metin = input(\"metin giriniz : \")\n",
    "\n",
    "for karakter in metin:\n",
    "    print(karakter, end=\" , \")\n",
    "\n",
    "# while ile\n",
    "\n",
    "sayaç = 0\n",
    "\n",
    "while sayaç < len(metin):\n",
    "    karakter = metin[sayaç]\n",
    "    sayaç += 1\n",
    "    print(karakter, end= \" , \")  "
   ]
  }
 ],
 "metadata": {
  "language_info": {
   "name": "python"
  }
 },
 "nbformat": 4,
 "nbformat_minor": 2
}
