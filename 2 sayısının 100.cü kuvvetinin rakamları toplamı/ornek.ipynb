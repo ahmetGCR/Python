{
 "cells": [
  {
   "cell_type": "code",
   "execution_count": null,
   "metadata": {},
   "outputs": [],
   "source": [
    "# 2**1000 Sayının rakamlarının toplamı kaçtır (2 sayısının 100.cü kuvvetinin rakamları toplamı)\n",
    "\n",
    "# pow fonksiyonu ile kuvvet alabiliriz\n",
    "\n",
    "import math\n",
    "a = pow(2,1000)\n",
    "b = str(a)\n",
    "\n",
    "toplam = 0\n",
    "for i in b:\n",
    "    i = int(i)\n",
    "    toplam += i\n",
    "\n",
    "toplam"
   ]
  }
 ],
 "metadata": {
  "language_info": {
   "name": "python"
  }
 },
 "nbformat": 4,
 "nbformat_minor": 2
}
