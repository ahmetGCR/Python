{
 "cells": [
  {
   "cell_type": "code",
   "execution_count": null,
   "metadata": {},
   "outputs": [],
   "source": [
    "\"\"\"\n",
    "Alti ders için kullanicidan alarak bir liste oluşturun (for döngüsü ile). Kullaniciya bu konulardan hangisini \n",
    "beğenmediğini sorun. Listeyi tekrar görüntülemeden önce seçtikleri konuyu listeden silin.\n",
    "\n",
    "\"\"\"\n",
    "\n",
    "# Boş ders listesini oluştur\n",
    "\n",
    "\n",
    "# Dersleri alin\n",
    "\n",
    "\n",
    "# ders listesini göster\n",
    "\n",
    "\n",
    "# sevilmeyen ders ismini al\n",
    "\n",
    "\n",
    "\n",
    "# sevilmeyen dersten kurtul\n",
    "\n",
    "\n",
    "ders_listesi = []\n",
    "\n",
    "for i in range(6):\n",
    "    dersler = input(\"ders listesini girin : \")\n",
    "    ders_listesi.append(dersler)\n",
    "\n",
    "print(ders_listesi)\n",
    "\n",
    "\n",
    "while True:\n",
    "    sevilmeyen_ders_ismi = input(\"sevilmeyen ders ismini girin : \")\n",
    "\n",
    "    if sevilmeyen_ders_ismi in ders_listesi:\n",
    "        ders_listesi.remove(sevilmeyen_ders_ismi)\n",
    "        break\n",
    "    else:\n",
    "        print(\"eşleşen ders yok\")\n",
    "        continue\n",
    "\n",
    "print()\n",
    "\n",
    "print(\"yeni ders listesi\")\n",
    "print(ders_listesi)"
   ]
  }
 ],
 "metadata": {
  "language_info": {
   "name": "python"
  }
 },
 "nbformat": 4,
 "nbformat_minor": 2
}
