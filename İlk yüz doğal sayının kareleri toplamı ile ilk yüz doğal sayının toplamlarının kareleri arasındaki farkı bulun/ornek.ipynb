{
 "cells": [
  {
   "cell_type": "code",
   "execution_count": null,
   "metadata": {},
   "outputs": [],
   "source": [
    "# İlk yüz doğal sayının kareleri toplamı ile ilk yüz doğal sayının toplamlarının kareleri arasındaki farkı bulun.\n",
    "karelerinin_toplamları = 0\n",
    "for i in range(1,101):\n",
    "    karelerinin_toplamları += i**2\n",
    "\n",
    "toplamlarının_karesi = sum(range(1,101))**2\n",
    "\n",
    "sonuç = toplamlarının_karesi - karelerinin_toplamları\n",
    "\n",
    "sonuç"
   ]
  }
 ],
 "metadata": {
  "language_info": {
   "name": "python"
  }
 },
 "nbformat": 4,
 "nbformat_minor": 2
}
