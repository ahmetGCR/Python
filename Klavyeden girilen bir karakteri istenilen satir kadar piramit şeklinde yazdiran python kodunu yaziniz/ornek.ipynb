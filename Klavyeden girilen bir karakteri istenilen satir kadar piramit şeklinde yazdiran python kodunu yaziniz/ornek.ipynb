{
 "cells": [
  {
   "cell_type": "code",
   "execution_count": null,
   "metadata": {},
   "outputs": [],
   "source": [
    "# Klavyeden girilen bir karakteri istenilen satir kadar piramit şeklinde yazdiran python kodunu yaziniz.\n",
    "\n",
    "karakter = input(\"karakter giriniz : \")\n",
    "satir_adedi = int(input(\"kaç satir olsun : \"))\n",
    "\n",
    "for i in range(satir_adedi):\n",
    "    print(karakter * i)"
   ]
  }
 ],
 "metadata": {
  "language_info": {
   "name": "python"
  }
 },
 "nbformat": 4,
 "nbformat_minor": 2
}
