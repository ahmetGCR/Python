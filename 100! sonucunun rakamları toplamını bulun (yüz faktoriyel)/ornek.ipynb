{
 "cells": [
  {
   "cell_type": "code",
   "execution_count": null,
   "metadata": {},
   "outputs": [],
   "source": [
    "# 100! sonucunun rakamları toplamını bulun (yüz faktoriyel)\n",
    "\n",
    "faktoriyel = 1\n",
    "\n",
    "for i in range(1,101):                 # 100! faktoriyeli hesapla\n",
    "    faktoriyel *= i\n",
    "\n",
    "str_faktoriyel = str(faktoriyel)       # faktoriyel değişkeninin, for döngüsü ile içinde gezmek için str ye çevir\n",
    "\n",
    "toplam = 0\n",
    "for i in str_faktoriyel:\n",
    "    toplam += int(i)\n",
    "\n",
    "print(toplam)"
   ]
  }
 ],
 "metadata": {
  "language_info": {
   "name": "python"
  }
 },
 "nbformat": 4,
 "nbformat_minor": 2
}
