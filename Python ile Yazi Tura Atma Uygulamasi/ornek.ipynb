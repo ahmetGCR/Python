{
 "cells": [
  {
   "cell_type": "code",
   "execution_count": null,
   "metadata": {},
   "outputs": [],
   "source": [
    "# Python ile Yazi Tura Atma Uygulamasi\n",
    "\n",
    "import random\n",
    "#yazi_tura = random.randint(1,2)\n",
    "\n",
    "#if yazi_tura == 1:\n",
    "#    print(\"yazi\")\n",
    "#else:\n",
    "#    print(\"tura\")\n",
    "\n",
    "seçenekler = [\"yazi\",\"tura\"]\n",
    "\n",
    "seç = random.choice(seçenekler)\n",
    "\n",
    "# print(seç)"
   ]
  }
 ],
 "metadata": {
  "language_info": {
   "name": "python"
  }
 },
 "nbformat": 4,
 "nbformat_minor": 2
}
