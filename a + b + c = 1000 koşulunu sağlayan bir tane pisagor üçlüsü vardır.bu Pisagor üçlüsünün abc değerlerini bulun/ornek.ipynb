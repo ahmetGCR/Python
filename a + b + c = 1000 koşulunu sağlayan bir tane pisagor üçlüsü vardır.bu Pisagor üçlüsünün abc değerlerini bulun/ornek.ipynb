{
 "cells": [
  {
   "cell_type": "code",
   "execution_count": null,
   "metadata": {},
   "outputs": [],
   "source": [
    "# a + b + c = 1000 koşulunu sağlayan bir tane pisagor üçlüsü vardır.bu Pisagor üçlüsünün a*b*c değerlerini bulun\n",
    "\n",
    "# a + b + c = 1000   ise\n",
    "\n",
    "def pisagor_bul(sayi):\n",
    "    for a in range(1,sayi):          # bir kenar a\n",
    "        for b in range(a+1,sayi):    # bir kenar b\n",
    "            c = 1000 - a - b          # c kenarını da 100 den a ve b çıkararak bulabiliriz\n",
    "\n",
    "            # bulduğumuz bu kenarlar pisagor üçlüsü teoremine uymalıdır.(a**2 + b**2 = c**2)\n",
    "            if a**2 + b**2 == c**2:\n",
    "                print(f\"a : {a}, b : {b}, c : {c}\")\n",
    "\n",
    "                return (a*b*c)\n",
    "pisagor_bul(1000)\n"
   ]
  }
 ],
 "metadata": {
  "language_info": {
   "name": "python"
  }
 },
 "nbformat": 4,
 "nbformat_minor": 2
}
