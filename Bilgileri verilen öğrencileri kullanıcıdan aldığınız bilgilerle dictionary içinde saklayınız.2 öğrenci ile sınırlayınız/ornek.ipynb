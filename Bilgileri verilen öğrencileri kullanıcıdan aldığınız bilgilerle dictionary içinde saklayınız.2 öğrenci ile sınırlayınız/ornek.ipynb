{
 "cells": [
  {
   "cell_type": "code",
   "execution_count": null,
   "metadata": {},
   "outputs": [],
   "source": [
    "# Bilgileri verilen öğrencileri kullanıcıdan aldığınız bilgilerle dictionary içinde saklayınız.2 öğrenci ile sınırlayınız.\n",
    "\n",
    "öğrenciler = {}\n",
    "\n",
    "for i in range(1,3):\n",
    "    number = int(input(\"öğrenci no : \"))\n",
    "    ad = input(\"öğrenci adı :\")\n",
    "    soyad = input(\"öğrenci sayodı : \")\n",
    "    telefon = int(input(\"öğrenci tel. : \"))\n",
    "    öğrenciler.update({number  : {\"ad\" : ad, \"soyad\" : soyad, \"telefon\" : telefon}})\n",
    "\n",
    "print(öğrenciler)"
   ]
  }
 ],
 "metadata": {
  "language_info": {
   "name": "python"
  }
 },
 "nbformat": 4,
 "nbformat_minor": 2
}
