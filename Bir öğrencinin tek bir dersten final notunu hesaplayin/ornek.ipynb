{
 "cells": [
  {
   "cell_type": "code",
   "execution_count": null,
   "metadata": {},
   "outputs": [],
   "source": [
    "\"\"\"\n",
    "Bir öğrencinin tek bir dersten final notunu hesaplayin. Final notu vize notunun yüzde 40 ile final imtihani \n",
    "notunun yüzde 60'nin toplanmasi ile belirlerlenir. Eğer öğrencinin notu 70 ve üstünde ise dersten geçer.\n",
    "\n",
    "\"\"\"\n",
    "\n",
    "notlar = {}\n",
    "\n",
    "vize = int(input(\"vize notunu giriniz : \"))\n",
    "final = int(input(\"final notunu giriniz : \"))\n",
    "\n",
    "notlar[\"vize\"] = vize\n",
    "notlar[\"final\"] = final\n",
    "print(notlar)\n",
    "\n",
    "not_ortalamasi = notlar[\"vize\"]*0.40 + notlar[\"final\"]*0.60\n",
    "print(\"not ortalamasi :\",not_ortalamasi)\n",
    "\n",
    "\n",
    "if not_ortalamasi > 70 :\n",
    "    print(\"tebrikler\")\n",
    "\n",
    "else:\n",
    "    print(\"tekrar\")"
   ]
  }
 ],
 "metadata": {
  "language_info": {
   "name": "python"
  }
 },
 "nbformat": 4,
 "nbformat_minor": 2
}
