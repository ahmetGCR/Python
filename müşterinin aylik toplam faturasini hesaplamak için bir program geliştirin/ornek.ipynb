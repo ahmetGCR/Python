{
 "cells": [
  {
   "cell_type": "code",
   "execution_count": null,
   "metadata": {},
   "outputs": [],
   "source": [
    "\"\"\"\n",
    "\n",
    "İnternet servis sağlayici ile yapilan sözleşmeye göre, bir müşterinin aylik faturasi, **aylik sabit ücret** ve \n",
    "kullanicinin fazladan kullandiği internet trafiğinden kaynaklanan **ekstra ücret** üzerinden hesaplanir. Ekstra ücret, \n",
    "kullanicinin ait olduğu **kategoriye** göre hesaplanir. Birim fiyatlara ilişkin bilgiler aşağida verilmiştir. Bir \n",
    "müşterinin aylik toplam faturasini hesaplamak için bir program geliştirin.\n",
    "\n",
    "kategori: 1 - ek ücret birim fiyati: 0.10 \n",
    "kategori: 2 - ek ücret birim fiyati: 0.20 \n",
    "kategori: 3 - ek ücret birim fiyati: 0.30\n",
    "\n",
    "\"\"\"\n",
    "\n",
    "# 1. Değişkenleri tanimla & 2. Kullanicidan girdiler al\n",
    "\n",
    "aylik_sabit_ücret = float(input(\"aylik sabit ücretinizi giriniz : \"))\n",
    "fazladan_kullanim_miktari = float(input(\"fazladan kullanim miktarini giriniz : \"))\n",
    "katagori = int(input(\"katagorinizi giriniz (1,2,3) : \"))\n",
    "\n",
    "kategori_birim_fiyati = {1:0.10, 2:0.20, 3:0.30}\n",
    "\n",
    "birim_fiyati = kategori_birim_fiyati[katagori]\n",
    "ekstra_ücret = fazladan_kullanim_miktari * birim_fiyati\n",
    "aylik_fatura = aylik_sabit_ücret + ekstra_ücret\n",
    "\n",
    "print(aylik_fatura)"
   ]
  }
 ],
 "metadata": {
  "language_info": {
   "name": "python"
  }
 },
 "nbformat": 4,
 "nbformat_minor": 2
}
