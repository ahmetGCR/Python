{
 "cells": [
  {
   "cell_type": "code",
   "execution_count": null,
   "metadata": {},
   "outputs": [],
   "source": [
    "\"\"\"\n",
    "0 ile 100 arasinda rastgele olacak şekilde 10 sayi oluşturup bu sayilari bir liste içerisine aktaran ve yine bu \n",
    "liste içerisindeki sayilarin kaç tanesinin 50’den küçük olduğunu yazdiran Python uygulamasini kodlayiniz.\n",
    "Rastgele sayilar olacaği için random modülünü kullanacağiz.\n",
    "\n",
    "\"\"\"\n",
    "\n",
    "import random\n",
    "\n",
    "\n",
    "oluşturulan_sayilar = []\n",
    "\n",
    "for i in range(10):\n",
    "    sayi = random.randint(0,100)\n",
    "    oluşturulan_sayilar.append(sayi)\n",
    "print(\"rastgele oluşturulan sayilarin listesi : \")\n",
    "print(oluşturulan_sayilar)\n",
    "\n",
    "print()\n",
    "print(\"50 den küçük sayilar : \")\n",
    "for i in oluşturulan_sayilar:\n",
    "    if i < 50:\n",
    "        print(i, end=\" \")\n"
   ]
  }
 ],
 "metadata": {
  "language_info": {
   "name": "python"
  }
 },
 "nbformat": 4,
 "nbformat_minor": 2
}
