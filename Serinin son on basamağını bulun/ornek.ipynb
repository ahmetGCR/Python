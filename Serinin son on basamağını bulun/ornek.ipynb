{
 "cells": [
  {
   "cell_type": "code",
   "execution_count": null,
   "metadata": {},
   "outputs": [],
   "source": [
    "# 1**1 + 2**2 + 3**3 ....1000**1000 Serisinin son on basamağını bulun\n",
    "toplam = 0\n",
    "for i in range(1,1001):\n",
    "    toplam += i ** i\n",
    "\n",
    "son_on_basamak = str(toplam)[-10:]\n",
    "son_on_basamak"
   ]
  }
 ],
 "metadata": {
  "language_info": {
   "name": "python"
  }
 },
 "nbformat": 4,
 "nbformat_minor": 2
}
