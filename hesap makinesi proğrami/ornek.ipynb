{
 "cells": [
  {
   "cell_type": "code",
   "execution_count": null,
   "metadata": {},
   "outputs": [],
   "source": [
    "print(\"\"\"**hesap makinesi proğrami**\n",
    "\n",
    "1 toplama işlemi\n",
    "\n",
    "2 çikarma işlemi\n",
    "\n",
    "3 çarpma işlemş\n",
    "\n",
    "4 bölme işlemi\n",
    "\n",
    "\"\"\")\n",
    "\n",
    "sayi1 = int(input(\"sayi1 : \"))\n",
    "sayi2 = int(input(\"sayi2 : \"))\n",
    "\n",
    "işlem = input(\"lütfen işlem giriniz : \")\n",
    "\n",
    "\n",
    "if işlem == \"1\" :\n",
    "    print(f'{sayi1} ile {sayi2} nin toplami {sayi1 + sayi2} eder')\n",
    "\n",
    "elif işlem == \"2\" :\n",
    "    print(f'{sayi1} ile {sayi2} nin farki {sayi1 - sayi2} eder')\n",
    "\n",
    "elif işlem == \"3\" :\n",
    "    print(f'{sayi1} ile {sayi2} nin çarpimi {sayi1 * sayi2} eder')\n",
    "    \n",
    "elif işlem == \"4\" :\n",
    "    print(f'{sayi1} ile {sayi2} nin bölümü {sayi1 / sayi2 } eder')\n",
    "    \n",
    "else:\n",
    "    print(\"geçersiz işlem\")"
   ]
  }
 ],
 "metadata": {
  "language_info": {
   "name": "python"
  }
 },
 "nbformat": 4,
 "nbformat_minor": 2
}
