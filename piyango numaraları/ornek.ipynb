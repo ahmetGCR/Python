{
 "cells": [
  {
   "cell_type": "code",
   "execution_count": null,
   "metadata": {},
   "outputs": [],
   "source": [
    "\"\"\"\n",
    "Rastgele Piyango Numaralari: Piyangoda büyük ikramiyeyi kazanmak için, kişi biletindeki 6 sayiyi, piyango \n",
    "organizatörü tarafindan çekilen 1 ile 49 arasindaki 6 sayiyla eşleştirmek zorundadir. Piyango bileti için \n",
    "rastgele 6 sayi üreten bir program yaziniz. Seçilen 6 numaranin tekrarlamadiğindan emin olun. Sayilari artan \n",
    "sirada görüntüleyin.\n",
    "\n",
    "\"\"\"\n",
    "\n",
    "import random\n",
    "\n",
    "bilet_numaralari = []\n",
    "\n",
    "for i in range(6):\n",
    "    sayi = random.randint(1,49)\n",
    "\n",
    "    while sayi  in bilet_numaralari:\n",
    "        sayi = random.randint(1,49)\n",
    "\n",
    "    bilet_numaralari.append(sayi)\n",
    "\n",
    "bilet_numaralari.sort()\n",
    "\n",
    "for i in bilet_numaralari:\n",
    "    print(i)"
   ]
  }
 ],
 "metadata": {
  "language_info": {
   "name": "python"
  }
 },
 "nbformat": 4,
 "nbformat_minor": 2
}
