{
 "cells": [
  {
   "cell_type": "code",
   "execution_count": null,
   "metadata": {},
   "outputs": [],
   "source": [
    "# rastgele sayı bulma\n",
    "import random\n",
    "\n",
    "sayi = random.randint(1,10)\n",
    "\n",
    "for i in range(5):\n",
    "    tahmin = int(input(\"1-10 arasi sayi tahmin ediniz : \")) \n",
    "\n",
    "    if tahmin == sayi:\n",
    "        print(\"tebrikler\")\n",
    "        break    \n",
    "\n",
    "    else:\n",
    "        if tahmin > sayi :\n",
    "            print(\"aşaği\")\n",
    "\n",
    "        else:\n",
    "            print(\"yukari\") \n",
    "if tahmin != sayi:\n",
    "    print(\"hakkiniz bitti, tutulan sayi\", sayi)           \n"
   ]
  }
 ],
 "metadata": {
  "language_info": {
   "name": "python"
  }
 },
 "nbformat": 4,
 "nbformat_minor": 2
}
