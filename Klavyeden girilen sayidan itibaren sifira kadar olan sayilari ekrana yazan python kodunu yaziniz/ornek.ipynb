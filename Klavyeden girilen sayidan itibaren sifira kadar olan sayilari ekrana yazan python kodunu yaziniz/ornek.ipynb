{
 "cells": [
  {
   "cell_type": "code",
   "execution_count": null,
   "metadata": {},
   "outputs": [],
   "source": [
    "# Klavyeden girilen sayidan itibaren sifira kadar olan sayilari ekrana yazan python kodunu yaziniz.\n",
    "\n",
    "sayi = int(input(\"sayi giriniz : \"))\n",
    "\n",
    "for i in range(sayi, -1, -1):\n",
    "    print(i,end=\" \")\n",
    "\n",
    "print()\n",
    "\n",
    " # Klavyeden girilen sayidan itibaren sifira kadar 2 şer 2 şer yazdiran python kodunu yaziniz.\n",
    "\n",
    "for i in range(sayi, -1, -2):\n",
    "    print(i,end=\" \")"
   ]
  }
 ],
 "metadata": {
  "language_info": {
   "name": "python"
  }
 },
 "nbformat": 4,
 "nbformat_minor": 2
}
