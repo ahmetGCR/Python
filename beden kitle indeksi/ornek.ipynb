{
 "cells": [
  {
   "cell_type": "code",
   "execution_count": null,
   "metadata": {},
   "outputs": [],
   "source": [
    "# beden kitle indeksi\n",
    "   \n",
    "# Beden Kitle İndeksi: Kilo / Boy(m) *  Boy(m) \"\"\"\n",
    "\n",
    "# BKİ 18.5'un altindaysa -------> Zayif\n",
    "\n",
    "# BKİ 18.5 ile 25 arasindaysa ------> Normal\n",
    "\n",
    "# BKİ 25 ile 30 arasindaysa --------> Fazla Kilolu\n",
    "\n",
    "# BKİ 30'un üstündeyse -------------> Obez\n",
    "\n",
    "\n",
    "\n",
    "boy = float(input(\"boyunuz m : \"))\n",
    "    \n",
    "kilo = float(input(\"kilonuz kg : \"))    \n",
    "\n",
    "beden_kitle_indeksi = kilo / boy**2\n",
    "\n",
    "\n",
    "if beden_kitle_indeksi <= 18.5 :\n",
    "    print(f'beden kitle indeksiniz : {beden_kitle_indeksi} : zayif')\n",
    "\n",
    "elif beden_kitle_indeksi > 18.5 and beden_kitle_indeksi < 25 :\n",
    "    print(f'beden kitle indeksiniz : {beden_kitle_indeksi} : normal')\n",
    "    \n",
    "elif beden_kitle_indeksi >= 25 and beden_kitle_indeksi < 30 :\n",
    "    print(f'beden kitle indeksiniz : {beden_kitle_indeksi} : fazla kilolu')\n",
    "    \n",
    "elif beden_kitle_indeksi >= 30 :\n",
    "    print(f'beden kitle indeksiniz : {beden_kitle_indeksi} : obez')"
   ]
  }
 ],
 "metadata": {
  "language_info": {
   "name": "python"
  }
 },
 "nbformat": 4,
 "nbformat_minor": 2
}
