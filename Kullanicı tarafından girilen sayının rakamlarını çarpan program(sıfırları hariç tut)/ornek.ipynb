{
 "cells": [
  {
   "cell_type": "code",
   "execution_count": null,
   "metadata": {},
   "outputs": [],
   "source": [
    "# Kullanicı tarafından girilen sayının rakamlarını çarpan program(sıfırları hariç tut)\n",
    "def devam_edilsin_mi():\n",
    "    while True:\n",
    "        kontrol = input(\"devam edilsin mi? (E/H): \").lower()\n",
    "        \n",
    "        if kontrol == \"e\" or kontrol == \"h\":\n",
    "\n",
    "            if kontrol ==   \"e\":\n",
    "                return True\n",
    "                break\n",
    "            elif kontrol == \"h\":\n",
    "                return  False\n",
    "                break\n",
    "        else:\n",
    "            print(\"lütfen \\\"e\\\" veya \\\"h\\\" harflerinden birini tuşlayiniz\")\n",
    "        \n",
    " # ana fonksiyon\n",
    "\n",
    "try:\n",
    "\n",
    "    while True:\n",
    "\n",
    "        çarpim = 1\n",
    "        sayi = input(\"sayi giriniz : \")\n",
    "        for rakam in sayi:\n",
    "\n",
    "            if rakam != \"0\":\n",
    "                rakam = int(rakam)\n",
    "                çarpim *= rakam\n",
    "            \n",
    "            elif rakam == \"0\":\n",
    "                continue\n",
    "\n",
    "        print(çarpim)\n",
    "\n",
    "        devam = devam_edilsin_mi()\n",
    "        if devam == True:\n",
    "            continue\n",
    "\n",
    "        else:\n",
    "            print(\"proğramdan çikiliyor\")\n",
    "            break\n",
    "\n",
    "\n",
    "except ValueError:\n",
    "    print(\"lütfen sayisal değerler girin...\")"
   ]
  }
 ],
 "metadata": {
  "language_info": {
   "name": "python"
  }
 },
 "nbformat": 4,
 "nbformat_minor": 2
}
