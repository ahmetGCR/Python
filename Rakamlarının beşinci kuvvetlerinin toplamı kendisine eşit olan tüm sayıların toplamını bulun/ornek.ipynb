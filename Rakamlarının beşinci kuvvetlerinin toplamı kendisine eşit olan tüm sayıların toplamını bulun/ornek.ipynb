{
 "cells": [
  {
   "cell_type": "code",
   "execution_count": null,
   "metadata": {},
   "outputs": [],
   "source": [
    "# Rakamlarının beşinci kuvvetlerinin toplamı kendisine eşit olan tüm sayıların toplamını bulun\n",
    "def dördüncü_kuvvet(sayi):\n",
    "    rakamlar = list()\n",
    "    str_sayi = str(sayi)               \n",
    "    for rakam in str_sayi:\n",
    "        rakamlar.append(int(rakam))\n",
    "\n",
    "    rakamlar_toplami = 0\n",
    "    for i in rakamlar:\n",
    "        rakamlar_toplami += i**5\n",
    "    return rakamlar_toplami == sayi\n",
    "        \n",
    "\n",
    "sonuç = list()\n",
    "for i in range(2,10000000):\n",
    "    if dördüncü_kuvvet(i):\n",
    "        sonuç.append(i)\n",
    "print(sonuç)\n",
    "print(sum(sonuç))"
   ]
  }
 ],
 "metadata": {
  "language_info": {
   "name": "python"
  }
 },
 "nbformat": 4,
 "nbformat_minor": 2
}
