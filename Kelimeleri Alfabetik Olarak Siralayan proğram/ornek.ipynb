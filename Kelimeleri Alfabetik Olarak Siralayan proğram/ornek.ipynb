{
 "cells": [
  {
   "cell_type": "code",
   "execution_count": null,
   "metadata": {},
   "outputs": [],
   "source": [
    "# Kelimeleri Alfabetik Olarak Siralayan proğram\n",
    "\n",
    "kelime = \"elma, armut, kayisi, portakal, limon\"\n",
    "\n",
    "yeni_kelime = kelime.split(\", \")\n",
    "yeni_kelime.sort()\n",
    "\n",
    "\n",
    "#print(yeni_kelime)\n",
    "\n",
    "for i in yeni_kelime:\n",
    "    print(i,end=\" \")"
   ]
  }
 ],
 "metadata": {
  "language_info": {
   "name": "python"
  }
 },
 "nbformat": 4,
 "nbformat_minor": 2
}
