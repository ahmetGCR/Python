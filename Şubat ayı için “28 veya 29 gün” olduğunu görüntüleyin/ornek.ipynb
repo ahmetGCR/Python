{
 "cells": [
  {
   "cell_type": "code",
   "execution_count": null,
   "metadata": {},
   "outputs": [],
   "source": [
    "\"\"\"\n",
    "Bir ayin uzunluğu 28 ila 31 gün arasinda değişmektedir. Bu aliştirmada, kullanicidan bir ayin adini bir string (dizi) \n",
    "olarak okuyan bir program oluşturacaksiniz. Ardindan programiniz o aydaki gün sayisini göstermelidir. Artik yillarin ele \n",
    "alinmasi için Şubat için “28 veya 29 gün” görüntüleyin.\"\"\"\n",
    "\n",
    "\n",
    "# input = ayin adini al\n",
    "# input = yili al\n",
    "# ni,ha,ey,ka = 30\n",
    "\n",
    "\n",
    "ay = input(\"ay :\").lower()\n",
    "yil = int(input(\"yil :\"))\n",
    "if ay == \"nisan\" or ay == \"haziran\" or ay == \"eylül\" or ay == \"kasim\" :\n",
    "    print(\"girilen ay 30 gündür\")\n",
    "\n",
    "elif ay == \"şubat\" :\n",
    "    if yil % 4 == 0 :\n",
    "        print(\"29 gün\")\n",
    "    else:\n",
    "        print(\"28 gün\")\n",
    "\n",
    "else:\n",
    "    print(\"31 gün vardir\")\n",
    "\n",
    "\n"
   ]
  }
 ],
 "metadata": {
  "language_info": {
   "name": "python"
  }
 },
 "nbformat": 4,
 "nbformat_minor": 2
}
