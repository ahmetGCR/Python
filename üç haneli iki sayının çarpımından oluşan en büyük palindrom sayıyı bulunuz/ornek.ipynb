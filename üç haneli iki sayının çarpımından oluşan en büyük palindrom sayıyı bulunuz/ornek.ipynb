{
 "cells": [
  {
   "cell_type": "code",
   "execution_count": null,
   "metadata": {},
   "outputs": [],
   "source": [
    "# üç haneli iki sayının çarpımından oluşan en büyük palindrom sayıyı bulunuz\n",
    "def palindrom_sayı(sayi):\n",
    "    sayi_str = str(sayi)\n",
    "    sayinin_tersi = sayi_str[::-1]\n",
    "    return sayi_str == sayinin_tersi\n",
    "\n",
    "palindrom_sayılar = []\n",
    "for i in range(100,1000):\n",
    "    for k in range(100,1000):\n",
    "        if palindrom_sayı(i * k):\n",
    "            palindrom_sayılar.append(i * k)\n",
    "\n",
    "palindrom_sayılar.sort(reverse=True)\n",
    "print(palindrom_sayılar[1])"
   ]
  }
 ],
 "metadata": {
  "language_info": {
   "name": "python"
  }
 },
 "nbformat": 4,
 "nbformat_minor": 2
}
