{
 "cells": [
  {
   "cell_type": "code",
   "execution_count": null,
   "metadata": {},
   "outputs": [],
   "source": [
    "\"\"\" \n",
    "Bir şirketin yönetim politikasina göre, satiş elemanina sabit bir maaşi ile beraber, satiştan elde edilen toplam\n",
    "kazanç ve prim oranina bağli olarak bir prim ödenir. Toplam kazancin, şirket politikasi ile belirlenen performans\n",
    "düzeyini aşmasi durumunda prim orani 0.10, aksi durumda 0.05 olarak belirlenir. Şirketteki satiş elemaninin \n",
    "maaşini hesaplamak için bir program geliştirin.\n",
    "\n",
    "\"\"\"\n",
    "\n",
    "# sabit maaşi girin\n",
    "# toplam kazanci girin\n",
    "# performan düzeyini girin\n",
    "\n",
    "# toplam maaş = sabit maaş t prim\n",
    "# prim = toplam kazanç * prim orani\n",
    "# performans düzeyi > 10 ise prim orani 0.1 performans düzeyi < 10 ise 0.05\n",
    "\n",
    "sbt_maaş = input(\"sabit_maaşi giriniz : \")\n",
    "toplam_kazanç = input(\"toplam kazanci girin : \")\n",
    "performans_düzeyi = input(\"peforman düzeyini girin :\")\n",
    "\n",
    "if sbt_maaş.isdigit() and toplam_kazanç.isdigit() and performans_düzeyi.isdigit():\n",
    "    sbt_maaş = int(sbt_maaş)\n",
    "    toplam_kazanç = int(toplam_kazanç)\n",
    "    performans_düzeyi = int(performans_düzeyi)\n",
    "\n",
    "    if toplam_kazanç <= performans_düzeyi  :\n",
    "        prim = toplam_kazanç * 0.1\n",
    "\n",
    "    else :\n",
    "        prim = toplam_kazanç * 0.05\n",
    "\n",
    "    print (\"toplam maaş :\", sbt_maaş + prim)\n",
    "    \n",
    "else:\n",
    "    print(\"lütfen sayi veya rakam giriniz\")"
   ]
  }
 ],
 "metadata": {
  "language_info": {
   "name": "python"
  }
 },
 "nbformat": 4,
 "nbformat_minor": 2
}
